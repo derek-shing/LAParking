{
  "nbformat": 4,
  "nbformat_minor": 0,
  "metadata": {
    "colab": {
      "name": "LAParking.ipynb",
      "provenance": [],
      "include_colab_link": true
    },
    "kernelspec": {
      "name": "python3",
      "display_name": "Python 3"
    }
  },
  "cells": [
    {
      "cell_type": "markdown",
      "metadata": {
        "id": "view-in-github",
        "colab_type": "text"
      },
      "source": [
        "<a href=\"https://colab.research.google.com/github/derek-shing/LAParking/blob/master/LAParking.ipynb\" target=\"_parent\"><img src=\"https://colab.research.google.com/assets/colab-badge.svg\" alt=\"Open In Colab\"/></a>"
      ]
    },
    {
      "cell_type": "code",
      "metadata": {
        "id": "RtPdo7hpl3k7",
        "colab_type": "code",
        "outputId": "9dba6983-240a-4826-85f9-de31b559419d",
        "colab": {
          "base_uri": "https://localhost:8080/",
          "height": 122
        }
      },
      "source": [
        "# Loading Parking space table\n",
        "\n",
        "import requests\n",
        "import json\n",
        "import pandas as pd\n",
        "from google.colab import drive\n",
        "drive.mount('/content/drive')"
      ],
      "execution_count": 1,
      "outputs": [
        {
          "output_type": "stream",
          "text": [
            "Go to this URL in a browser: https://accounts.google.com/o/oauth2/auth?client_id=947318989803-6bn6qk8qdgf4n4g3pfee6491hc0brc4i.apps.googleusercontent.com&redirect_uri=urn%3aietf%3awg%3aoauth%3a2.0%3aoob&response_type=code&scope=email%20https%3a%2f%2fwww.googleapis.com%2fauth%2fdocs.test%20https%3a%2f%2fwww.googleapis.com%2fauth%2fdrive%20https%3a%2f%2fwww.googleapis.com%2fauth%2fdrive.photos.readonly%20https%3a%2f%2fwww.googleapis.com%2fauth%2fpeopleapi.readonly\n",
            "\n",
            "Enter your authorization code:\n",
            "··········\n",
            "Mounted at /content/drive\n"
          ],
          "name": "stdout"
        }
      ]
    },
    {
      "cell_type": "code",
      "metadata": {
        "id": "VTZASiZFmdhf",
        "colab_type": "code",
        "colab": {}
      },
      "source": [
        "endpoint = 'https://data.lacity.org/resource/s49e-q6j2.json'\n",
        "data = requests.get(endpoint).json()"
      ],
      "execution_count": 0,
      "outputs": []
    },
    {
      "cell_type": "code",
      "metadata": {
        "id": "bCJtqemEn64J",
        "colab_type": "code",
        "colab": {}
      },
      "source": [
        "df = pd.DataFrame(data)"
      ],
      "execution_count": 0,
      "outputs": []
    },
    {
      "cell_type": "code",
      "metadata": {
        "id": "LJhPFYQwn29M",
        "colab_type": "code",
        "colab": {}
      },
      "source": [
        "df_csv = pd.read_csv('/content/drive/My Drive/Parking_Meter_Inventory.csv')"
      ],
      "execution_count": 0,
      "outputs": []
    },
    {
      "cell_type": "code",
      "metadata": {
        "id": "kjx4TnbWoA1a",
        "colab_type": "code",
        "outputId": "81fea44f-22fa-40ff-f2e3-2668052d54ca",
        "colab": {
          "base_uri": "https://localhost:8080/",
          "height": 34
        }
      },
      "source": [
        "df_csv.shape"
      ],
      "execution_count": 3,
      "outputs": [
        {
          "output_type": "execute_result",
          "data": {
            "text/plain": [
              "(33989, 9)"
            ]
          },
          "metadata": {
            "tags": []
          },
          "execution_count": 3
        }
      ]
    },
    {
      "cell_type": "code",
      "metadata": {
        "id": "xrB7P0LSr7OS",
        "colab_type": "code",
        "colab": {}
      },
      "source": [
        ""
      ],
      "execution_count": 0,
      "outputs": []
    },
    {
      "cell_type": "code",
      "metadata": {
        "id": "2CVFAAxer0b5",
        "colab_type": "code",
        "colab": {}
      },
      "source": [
        "occupid_api = 'https://data.lacity.org/resource/e7h6-4a3e.json'\n",
        "occupid_data = requests.get(occupid_api).json()\n",
        "df_occ = pd.DataFrame(occupid_data)"
      ],
      "execution_count": 0,
      "outputs": []
    },
    {
      "cell_type": "code",
      "metadata": {
        "id": "86QIdSkxsHXE",
        "colab_type": "code",
        "colab": {}
      },
      "source": [
        "df_occ = pd.DataFrame(occupid_data)"
      ],
      "execution_count": 0,
      "outputs": []
    },
    {
      "cell_type": "code",
      "metadata": {
        "id": "65WJigevtqyJ",
        "colab_type": "code",
        "colab": {}
      },
      "source": [
        "df_csv = df_csv.rename(columns={'SpaceID':'spaceid'})"
      ],
      "execution_count": 0,
      "outputs": []
    },
    {
      "cell_type": "code",
      "metadata": {
        "id": "7oK0jNO1a96a",
        "colab_type": "code",
        "colab": {}
      },
      "source": [
        "import re"
      ],
      "execution_count": 0,
      "outputs": []
    },
    {
      "cell_type": "code",
      "metadata": {
        "id": "U5Mu_XJVbKwd",
        "colab_type": "code",
        "colab": {}
      },
      "source": [
        "test=df_csv.iloc[0]['LatLng']"
      ],
      "execution_count": 0,
      "outputs": []
    },
    {
      "cell_type": "code",
      "metadata": {
        "id": "y5x1eSHNbkTS",
        "colab_type": "code",
        "colab": {
          "base_uri": "https://localhost:8080/",
          "height": 34
        },
        "outputId": "8a7efa3f-85ca-413e-f8e9-117a4853a665"
      },
      "source": [
        "test"
      ],
      "execution_count": 19,
      "outputs": [
        {
          "output_type": "execute_result",
          "data": {
            "text/plain": [
              "'(34.057219, -118.268751)'"
            ]
          },
          "metadata": {
            "tags": []
          },
          "execution_count": 19
        }
      ]
    },
    {
      "cell_type": "code",
      "metadata": {
        "id": "rvU_SAwibCJn",
        "colab_type": "code",
        "colab": {}
      },
      "source": [
        "Lat =[]\n",
        "Lng =[]\n",
        "for i in df_csv['LatLng']:\n",
        "  t = re.findall('\\d+.\\d+|-\\d+.\\d+',i)\n",
        "  Lat.append(float(t[0]))\n",
        "  Lng.append(float(t[1]))\n"
      ],
      "execution_count": 0,
      "outputs": []
    },
    {
      "cell_type": "code",
      "metadata": {
        "id": "FWpwhOo8eJRV",
        "colab_type": "code",
        "colab": {
          "base_uri": "https://localhost:8080/",
          "height": 34
        },
        "outputId": "c258e0e0-c197-4241-ee57-6ee78aef49d0"
      },
      "source": [
        "len(Lat), len(Lng)"
      ],
      "execution_count": 36,
      "outputs": [
        {
          "output_type": "execute_result",
          "data": {
            "text/plain": [
              "(33989, 33989)"
            ]
          },
          "metadata": {
            "tags": []
          },
          "execution_count": 36
        }
      ]
    },
    {
      "cell_type": "code",
      "metadata": {
        "id": "k5fLrVTmeTrH",
        "colab_type": "code",
        "colab": {}
      },
      "source": [
        "df_csv['LAT']=Lat\n",
        "df_csv['LNG']=Lng"
      ],
      "execution_count": 0,
      "outputs": []
    },
    {
      "cell_type": "code",
      "metadata": {
        "id": "fSZbzOQwt2uX",
        "colab_type": "code",
        "outputId": "b6a7a659-921e-420f-858d-49d315c10b1b",
        "colab": {
          "base_uri": "https://localhost:8080/",
          "height": 306
        }
      },
      "source": [
        "df_csv.head()"
      ],
      "execution_count": 39,
      "outputs": [
        {
          "output_type": "execute_result",
          "data": {
            "text/html": [
              "<div>\n",
              "<style scoped>\n",
              "    .dataframe tbody tr th:only-of-type {\n",
              "        vertical-align: middle;\n",
              "    }\n",
              "\n",
              "    .dataframe tbody tr th {\n",
              "        vertical-align: top;\n",
              "    }\n",
              "\n",
              "    .dataframe thead th {\n",
              "        text-align: right;\n",
              "    }\n",
              "</style>\n",
              "<table border=\"1\" class=\"dataframe\">\n",
              "  <thead>\n",
              "    <tr style=\"text-align: right;\">\n",
              "      <th></th>\n",
              "      <th>SpaceID</th>\n",
              "      <th>BlockFace</th>\n",
              "      <th>MeterType</th>\n",
              "      <th>RateType</th>\n",
              "      <th>RateRange</th>\n",
              "      <th>MeteredTimeLimit</th>\n",
              "      <th>ParkingPolicy</th>\n",
              "      <th>StreetCleaning</th>\n",
              "      <th>LatLng</th>\n",
              "      <th>LAT</th>\n",
              "      <th>LNG</th>\n",
              "    </tr>\n",
              "  </thead>\n",
              "  <tbody>\n",
              "    <tr>\n",
              "      <th>0</th>\n",
              "      <td>WU150</td>\n",
              "      <td>501 UNION DR</td>\n",
              "      <td>Single-Space</td>\n",
              "      <td>FLAT</td>\n",
              "      <td>$1.00</td>\n",
              "      <td>2HR</td>\n",
              "      <td>8A-6P Mon-Sat</td>\n",
              "      <td>12P-3P Mon</td>\n",
              "      <td>(34.057219, -118.268751)</td>\n",
              "      <td>34.057219</td>\n",
              "      <td>-118.268751</td>\n",
              "    </tr>\n",
              "    <tr>\n",
              "      <th>1</th>\n",
              "      <td>MV161</td>\n",
              "      <td>12200 VENICE BL</td>\n",
              "      <td>Single-Space</td>\n",
              "      <td>FLAT</td>\n",
              "      <td>$1.00</td>\n",
              "      <td>2HR</td>\n",
              "      <td>8A-8P Mon-Sat</td>\n",
              "      <td>NaN</td>\n",
              "      <td>(34.0043, -118.432007)</td>\n",
              "      <td>34.004300</td>\n",
              "      <td>-118.432007</td>\n",
              "    </tr>\n",
              "    <tr>\n",
              "      <th>2</th>\n",
              "      <td>ER138</td>\n",
              "      <td>2000 COLORADO BL</td>\n",
              "      <td>Single-Space</td>\n",
              "      <td>FLAT</td>\n",
              "      <td>$1.00</td>\n",
              "      <td>2HR</td>\n",
              "      <td>8A-8P Mon-Sat</td>\n",
              "      <td>NaN</td>\n",
              "      <td>(34.139067, -118.210994)</td>\n",
              "      <td>34.139067</td>\n",
              "      <td>-118.210994</td>\n",
              "    </tr>\n",
              "    <tr>\n",
              "      <th>3</th>\n",
              "      <td>BF66</td>\n",
              "      <td>7901 BEVERLY BL</td>\n",
              "      <td>Single-Space</td>\n",
              "      <td>FLAT</td>\n",
              "      <td>$1.00</td>\n",
              "      <td>2HR</td>\n",
              "      <td>8A-8P Mon-Sat, 11A-8P Sun</td>\n",
              "      <td>NaN</td>\n",
              "      <td>(34.076203, -118.362266)</td>\n",
              "      <td>34.076203</td>\n",
              "      <td>-118.362266</td>\n",
              "    </tr>\n",
              "    <tr>\n",
              "      <th>4</th>\n",
              "      <td>CB121</td>\n",
              "      <td>1301 S HOPE ST</td>\n",
              "      <td>Single-Space</td>\n",
              "      <td>TOD</td>\n",
              "      <td>$1 - $2</td>\n",
              "      <td>4HR</td>\n",
              "      <td>8A-8P Mon-Sat</td>\n",
              "      <td>NaN</td>\n",
              "      <td>(34.038863, -118.26618)</td>\n",
              "      <td>34.038863</td>\n",
              "      <td>-118.266180</td>\n",
              "    </tr>\n",
              "  </tbody>\n",
              "</table>\n",
              "</div>"
            ],
            "text/plain": [
              "  SpaceID         BlockFace  ...        LAT         LNG\n",
              "0   WU150      501 UNION DR  ...  34.057219 -118.268751\n",
              "1   MV161   12200 VENICE BL  ...  34.004300 -118.432007\n",
              "2   ER138  2000 COLORADO BL  ...  34.139067 -118.210994\n",
              "3    BF66   7901 BEVERLY BL  ...  34.076203 -118.362266\n",
              "4   CB121    1301 S HOPE ST  ...  34.038863 -118.266180\n",
              "\n",
              "[5 rows x 11 columns]"
            ]
          },
          "metadata": {
            "tags": []
          },
          "execution_count": 39
        }
      ]
    },
    {
      "cell_type": "code",
      "metadata": {
        "id": "uiGDh6NsemE7",
        "colab_type": "code",
        "colab": {}
      },
      "source": [
        "df_csv.to_csv('meter.csv')"
      ],
      "execution_count": 0,
      "outputs": []
    },
    {
      "cell_type": "code",
      "metadata": {
        "id": "zwlrF1mhr91t",
        "colab_type": "code",
        "outputId": "255ddd4a-42ee-4c9d-c117-69da4d1495fd",
        "colab": {
          "base_uri": "https://localhost:8080/",
          "height": 204
        }
      },
      "source": [
        "df_occ.head()"
      ],
      "execution_count": 0,
      "outputs": [
        {
          "output_type": "execute_result",
          "data": {
            "text/html": [
              "<div>\n",
              "<style scoped>\n",
              "    .dataframe tbody tr th:only-of-type {\n",
              "        vertical-align: middle;\n",
              "    }\n",
              "\n",
              "    .dataframe tbody tr th {\n",
              "        vertical-align: top;\n",
              "    }\n",
              "\n",
              "    .dataframe thead th {\n",
              "        text-align: right;\n",
              "    }\n",
              "</style>\n",
              "<table border=\"1\" class=\"dataframe\">\n",
              "  <thead>\n",
              "    <tr style=\"text-align: right;\">\n",
              "      <th></th>\n",
              "      <th>eventtime</th>\n",
              "      <th>occupancystate</th>\n",
              "      <th>spaceid</th>\n",
              "    </tr>\n",
              "  </thead>\n",
              "  <tbody>\n",
              "    <tr>\n",
              "      <th>0</th>\n",
              "      <td>2019-09-01T02:38:09.000</td>\n",
              "      <td>OCCUPIED</td>\n",
              "      <td>CT555</td>\n",
              "    </tr>\n",
              "    <tr>\n",
              "      <th>1</th>\n",
              "      <td>2019-09-01T02:38:02.000</td>\n",
              "      <td>VACANT</td>\n",
              "      <td>LT310</td>\n",
              "    </tr>\n",
              "    <tr>\n",
              "      <th>2</th>\n",
              "      <td>2019-09-01T02:38:00.000</td>\n",
              "      <td>OCCUPIED</td>\n",
              "      <td>WV223</td>\n",
              "    </tr>\n",
              "    <tr>\n",
              "      <th>3</th>\n",
              "      <td>2019-09-01T02:37:56.000</td>\n",
              "      <td>VACANT</td>\n",
              "      <td>WV216</td>\n",
              "    </tr>\n",
              "    <tr>\n",
              "      <th>4</th>\n",
              "      <td>2019-09-01T02:37:56.000</td>\n",
              "      <td>OCCUPIED</td>\n",
              "      <td>LT62</td>\n",
              "    </tr>\n",
              "  </tbody>\n",
              "</table>\n",
              "</div>"
            ],
            "text/plain": [
              "                 eventtime occupancystate spaceid\n",
              "0  2019-09-01T02:38:09.000       OCCUPIED   CT555\n",
              "1  2019-09-01T02:38:02.000         VACANT   LT310\n",
              "2  2019-09-01T02:38:00.000       OCCUPIED   WV223\n",
              "3  2019-09-01T02:37:56.000         VACANT   WV216\n",
              "4  2019-09-01T02:37:56.000       OCCUPIED    LT62"
            ]
          },
          "metadata": {
            "tags": []
          },
          "execution_count": 41
        }
      ]
    },
    {
      "cell_type": "code",
      "metadata": {
        "id": "hlmiM9Cht9kU",
        "colab_type": "code",
        "colab": {}
      },
      "source": [
        "final_df=pd.merge(df_occ, df_csv, on='spaceid',how='left')"
      ],
      "execution_count": 0,
      "outputs": []
    },
    {
      "cell_type": "code",
      "metadata": {
        "id": "vqMum0xSrnBI",
        "colab_type": "code",
        "colab": {}
      },
      "source": [
        "df.head()"
      ],
      "execution_count": 0,
      "outputs": []
    },
    {
      "cell_type": "code",
      "metadata": {
        "id": "nFCqX0JJuIO4",
        "colab_type": "code",
        "colab": {}
      },
      "source": [
        ""
      ],
      "execution_count": 0,
      "outputs": []
    },
    {
      "cell_type": "code",
      "metadata": {
        "id": "GvUXOTRbj4qy",
        "colab_type": "code",
        "outputId": "6504ebe4-935d-4e11-bcb8-e9965300cb0f",
        "colab": {
          "base_uri": "https://localhost:8080/",
          "height": 34
        }
      },
      "source": [
        "df.shape"
      ],
      "execution_count": 0,
      "outputs": [
        {
          "output_type": "execute_result",
          "data": {
            "text/plain": [
              "(1000, 15)"
            ]
          },
          "metadata": {
            "tags": []
          },
          "execution_count": 30
        }
      ]
    },
    {
      "cell_type": "code",
      "metadata": {
        "id": "86e5tqgEuKDd",
        "colab_type": "code",
        "outputId": "9612fcdd-00da-4bd7-d379-0fc4373f386a",
        "colab": {
          "base_uri": "https://localhost:8080/",
          "height": 34
        }
      },
      "source": [
        "final_df.shape"
      ],
      "execution_count": 0,
      "outputs": [
        {
          "output_type": "execute_result",
          "data": {
            "text/plain": [
              "(1000, 11)"
            ]
          },
          "metadata": {
            "tags": []
          },
          "execution_count": 85
        }
      ]
    },
    {
      "cell_type": "code",
      "metadata": {
        "id": "pEeR2pdOuNaU",
        "colab_type": "code",
        "outputId": "2c936abd-f3a2-4a31-ed10-b7360ab1b378",
        "colab": {
          "base_uri": "https://localhost:8080/",
          "height": 340
        }
      },
      "source": [
        "final_df.head()"
      ],
      "execution_count": 0,
      "outputs": [
        {
          "output_type": "execute_result",
          "data": {
            "text/html": [
              "<div>\n",
              "<style scoped>\n",
              "    .dataframe tbody tr th:only-of-type {\n",
              "        vertical-align: middle;\n",
              "    }\n",
              "\n",
              "    .dataframe tbody tr th {\n",
              "        vertical-align: top;\n",
              "    }\n",
              "\n",
              "    .dataframe thead th {\n",
              "        text-align: right;\n",
              "    }\n",
              "</style>\n",
              "<table border=\"1\" class=\"dataframe\">\n",
              "  <thead>\n",
              "    <tr style=\"text-align: right;\">\n",
              "      <th></th>\n",
              "      <th>eventtime</th>\n",
              "      <th>occupancystate</th>\n",
              "      <th>spaceid</th>\n",
              "      <th>BlockFace</th>\n",
              "      <th>MeterType</th>\n",
              "      <th>RateType</th>\n",
              "      <th>RateRange</th>\n",
              "      <th>MeteredTimeLimit</th>\n",
              "      <th>ParkingPolicy</th>\n",
              "      <th>StreetCleaning</th>\n",
              "      <th>LatLng</th>\n",
              "    </tr>\n",
              "  </thead>\n",
              "  <tbody>\n",
              "    <tr>\n",
              "      <th>0</th>\n",
              "      <td>2019-09-01T02:38:09.000</td>\n",
              "      <td>OCCUPIED</td>\n",
              "      <td>CT555</td>\n",
              "      <td>700 NEW HIGH ST</td>\n",
              "      <td>Single-Space</td>\n",
              "      <td>TOD</td>\n",
              "      <td>$0.5 - $1.5</td>\n",
              "      <td>4HR</td>\n",
              "      <td>8A-8P Mon-Sat</td>\n",
              "      <td>4A-630A Thu</td>\n",
              "      <td>(34.060982, -118.238105)</td>\n",
              "    </tr>\n",
              "    <tr>\n",
              "      <th>1</th>\n",
              "      <td>2019-09-01T02:38:02.000</td>\n",
              "      <td>VACANT</td>\n",
              "      <td>LT310</td>\n",
              "      <td>300 BOYD ST</td>\n",
              "      <td>Single-Space</td>\n",
              "      <td>TOD</td>\n",
              "      <td>$0.5 - $4</td>\n",
              "      <td>2HR</td>\n",
              "      <td>PKG 8A-6P Mon-Sat | NP 7P-7A Nightly</td>\n",
              "      <td>NaN</td>\n",
              "      <td>(34.046815, -118.243275)</td>\n",
              "    </tr>\n",
              "    <tr>\n",
              "      <th>2</th>\n",
              "      <td>2019-09-01T02:38:00.000</td>\n",
              "      <td>OCCUPIED</td>\n",
              "      <td>WV223</td>\n",
              "      <td>10900 WEYBURN AV</td>\n",
              "      <td>Single-Space</td>\n",
              "      <td>TOD</td>\n",
              "      <td>$1 - $2</td>\n",
              "      <td>2HR</td>\n",
              "      <td>8A-8P Mon-Thu, 8A-12A Fri-Sat, 11A-8P Sun</td>\n",
              "      <td>NaN</td>\n",
              "      <td>(34.062496, -118.445753)</td>\n",
              "    </tr>\n",
              "    <tr>\n",
              "      <th>3</th>\n",
              "      <td>2019-09-01T02:37:56.000</td>\n",
              "      <td>VACANT</td>\n",
              "      <td>WV216</td>\n",
              "      <td>10900 WEYBURN AV</td>\n",
              "      <td>Single-Space</td>\n",
              "      <td>TOD</td>\n",
              "      <td>$1 - $2</td>\n",
              "      <td>2HR</td>\n",
              "      <td>8A-8P Mon-Thu, 8A-12A Fri-Sat, 11A-8P Sun</td>\n",
              "      <td>NaN</td>\n",
              "      <td>(34.062507, -118.446446)</td>\n",
              "    </tr>\n",
              "    <tr>\n",
              "      <th>4</th>\n",
              "      <td>2019-09-01T02:37:56.000</td>\n",
              "      <td>OCCUPIED</td>\n",
              "      <td>LT62</td>\n",
              "      <td>301 E 2ND ST</td>\n",
              "      <td>Single-Space</td>\n",
              "      <td>TOD</td>\n",
              "      <td>$0.5 - $4</td>\n",
              "      <td>2HR</td>\n",
              "      <td>8A-8P Mon-Sat</td>\n",
              "      <td>NaN</td>\n",
              "      <td>(34.048229, -118.239982)</td>\n",
              "    </tr>\n",
              "  </tbody>\n",
              "</table>\n",
              "</div>"
            ],
            "text/plain": [
              "                 eventtime  ...                    LatLng\n",
              "0  2019-09-01T02:38:09.000  ...  (34.060982, -118.238105)\n",
              "1  2019-09-01T02:38:02.000  ...  (34.046815, -118.243275)\n",
              "2  2019-09-01T02:38:00.000  ...  (34.062496, -118.445753)\n",
              "3  2019-09-01T02:37:56.000  ...  (34.062507, -118.446446)\n",
              "4  2019-09-01T02:37:56.000  ...  (34.048229, -118.239982)\n",
              "\n",
              "[5 rows x 11 columns]"
            ]
          },
          "metadata": {
            "tags": []
          },
          "execution_count": 86
        }
      ]
    },
    {
      "cell_type": "code",
      "metadata": {
        "id": "F1MBS3s4uXGW",
        "colab_type": "code",
        "colab": {}
      },
      "source": [
        "occupied_filter= final_df['occupancystate']=='OCCUPIED'\n",
        "vacant_filter= final_df['occupancystate']=='VACANT'"
      ],
      "execution_count": 0,
      "outputs": []
    },
    {
      "cell_type": "code",
      "metadata": {
        "id": "WvLnrwQvu3Gl",
        "colab_type": "code",
        "outputId": "07cb0d60-8fc0-4762-cb7a-a053cb7e350d",
        "colab": {
          "base_uri": "https://localhost:8080/",
          "height": 34
        }
      },
      "source": [
        "final_df[occupied_filter].shape"
      ],
      "execution_count": 0,
      "outputs": [
        {
          "output_type": "execute_result",
          "data": {
            "text/plain": [
              "(506, 11)"
            ]
          },
          "metadata": {
            "tags": []
          },
          "execution_count": 55
        }
      ]
    },
    {
      "cell_type": "code",
      "metadata": {
        "id": "3oAU7pQ5vAfZ",
        "colab_type": "code",
        "outputId": "1b6a1c5d-3c38-42fe-da31-7d737e24b17c",
        "colab": {
          "base_uri": "https://localhost:8080/",
          "height": 340
        }
      },
      "source": [
        "final_df[vacant_filter].head()"
      ],
      "execution_count": 0,
      "outputs": [
        {
          "output_type": "execute_result",
          "data": {
            "text/html": [
              "<div>\n",
              "<style scoped>\n",
              "    .dataframe tbody tr th:only-of-type {\n",
              "        vertical-align: middle;\n",
              "    }\n",
              "\n",
              "    .dataframe tbody tr th {\n",
              "        vertical-align: top;\n",
              "    }\n",
              "\n",
              "    .dataframe thead th {\n",
              "        text-align: right;\n",
              "    }\n",
              "</style>\n",
              "<table border=\"1\" class=\"dataframe\">\n",
              "  <thead>\n",
              "    <tr style=\"text-align: right;\">\n",
              "      <th></th>\n",
              "      <th>eventtime</th>\n",
              "      <th>occupancystate</th>\n",
              "      <th>spaceid</th>\n",
              "      <th>BlockFace</th>\n",
              "      <th>MeterType</th>\n",
              "      <th>RateType</th>\n",
              "      <th>RateRange</th>\n",
              "      <th>MeteredTimeLimit</th>\n",
              "      <th>ParkingPolicy</th>\n",
              "      <th>StreetCleaning</th>\n",
              "      <th>LatLng</th>\n",
              "    </tr>\n",
              "  </thead>\n",
              "  <tbody>\n",
              "    <tr>\n",
              "      <th>1</th>\n",
              "      <td>2019-09-01T02:38:02.000</td>\n",
              "      <td>VACANT</td>\n",
              "      <td>LT310</td>\n",
              "      <td>300 BOYD ST</td>\n",
              "      <td>Single-Space</td>\n",
              "      <td>TOD</td>\n",
              "      <td>$0.5 - $4</td>\n",
              "      <td>2HR</td>\n",
              "      <td>PKG 8A-6P Mon-Sat | NP 7P-7A Nightly</td>\n",
              "      <td>NaN</td>\n",
              "      <td>(34.046815, -118.243275)</td>\n",
              "    </tr>\n",
              "    <tr>\n",
              "      <th>3</th>\n",
              "      <td>2019-09-01T02:37:56.000</td>\n",
              "      <td>VACANT</td>\n",
              "      <td>WV216</td>\n",
              "      <td>10900 WEYBURN AV</td>\n",
              "      <td>Single-Space</td>\n",
              "      <td>TOD</td>\n",
              "      <td>$1 - $2</td>\n",
              "      <td>2HR</td>\n",
              "      <td>8A-8P Mon-Thu, 8A-12A Fri-Sat, 11A-8P Sun</td>\n",
              "      <td>NaN</td>\n",
              "      <td>(34.062507, -118.446446)</td>\n",
              "    </tr>\n",
              "    <tr>\n",
              "      <th>7</th>\n",
              "      <td>2019-09-01T02:37:49.000</td>\n",
              "      <td>VACANT</td>\n",
              "      <td>CB3930</td>\n",
              "      <td>400 S WALL ST</td>\n",
              "      <td>Single-Space</td>\n",
              "      <td>TOD</td>\n",
              "      <td>$0.5 - $1.5</td>\n",
              "      <td>4HR</td>\n",
              "      <td>PKG 8A-6P Mon-Sat | NP 7P-7A Nightly</td>\n",
              "      <td>NaN</td>\n",
              "      <td>(34.045013, -118.245596)</td>\n",
              "    </tr>\n",
              "    <tr>\n",
              "      <th>10</th>\n",
              "      <td>2019-09-01T02:37:43.000</td>\n",
              "      <td>VACANT</td>\n",
              "      <td>CB3235</td>\n",
              "      <td>400 W. 8TH ST</td>\n",
              "      <td>Single-Space</td>\n",
              "      <td>FLAT</td>\n",
              "      <td>$4.00</td>\n",
              "      <td>4HR</td>\n",
              "      <td>8A-8P Mon-Sat</td>\n",
              "      <td>NaN</td>\n",
              "      <td>(34.044706, -118.25629)</td>\n",
              "    </tr>\n",
              "    <tr>\n",
              "      <th>13</th>\n",
              "      <td>2019-09-01T02:37:40.000</td>\n",
              "      <td>VACANT</td>\n",
              "      <td>LT60A</td>\n",
              "      <td>301 E 2ND ST</td>\n",
              "      <td>Single-Space</td>\n",
              "      <td>TOD</td>\n",
              "      <td>$0.5 - $4</td>\n",
              "      <td>2HR</td>\n",
              "      <td>8A-8P Mon-Sat</td>\n",
              "      <td>NaN</td>\n",
              "      <td>(34.048154, -118.239868)</td>\n",
              "    </tr>\n",
              "  </tbody>\n",
              "</table>\n",
              "</div>"
            ],
            "text/plain": [
              "                  eventtime  ...                    LatLng\n",
              "1   2019-09-01T02:38:02.000  ...  (34.046815, -118.243275)\n",
              "3   2019-09-01T02:37:56.000  ...  (34.062507, -118.446446)\n",
              "7   2019-09-01T02:37:49.000  ...  (34.045013, -118.245596)\n",
              "10  2019-09-01T02:37:43.000  ...   (34.044706, -118.25629)\n",
              "13  2019-09-01T02:37:40.000  ...  (34.048154, -118.239868)\n",
              "\n",
              "[5 rows x 11 columns]"
            ]
          },
          "metadata": {
            "tags": []
          },
          "execution_count": 58
        }
      ]
    },
    {
      "cell_type": "code",
      "metadata": {
        "id": "w1pcJYCDgWlz",
        "colab_type": "code",
        "colab": {}
      },
      "source": [
        "import folium\n",
        "from folium import plugins\n"
      ],
      "execution_count": 0,
      "outputs": []
    },
    {
      "cell_type": "code",
      "metadata": {
        "id": "vZEOX2AXheGW",
        "colab_type": "code",
        "outputId": "796d1010-ba9f-4dfa-e610-f55c6b8ed4e4",
        "colab": {
          "base_uri": "https://localhost:8080/",
          "height": 34
        }
      },
      "source": [
        "df['latlng'][0]"
      ],
      "execution_count": 0,
      "outputs": [
        {
          "output_type": "execute_result",
          "data": {
            "text/plain": [
              "{'latitude': '34.057219', 'longitude': '-118.268751'}"
            ]
          },
          "metadata": {
            "tags": []
          },
          "execution_count": 13
        }
      ]
    },
    {
      "cell_type": "code",
      "metadata": {
        "id": "sLBgDydfhCz7",
        "colab_type": "code",
        "colab": {}
      },
      "source": [
        "x = df['latlng'][0]['latitude']\n",
        "y = df['latlng'][0]['longitude']"
      ],
      "execution_count": 0,
      "outputs": []
    },
    {
      "cell_type": "code",
      "metadata": {
        "id": "aFMj09ZnhuD5",
        "colab_type": "code",
        "colab": {}
      },
      "source": [
        "x = float(x)\n",
        "y = float(y)"
      ],
      "execution_count": 0,
      "outputs": []
    },
    {
      "cell_type": "code",
      "metadata": {
        "id": "-7tt219XwiCz",
        "colab_type": "code",
        "colab": {}
      },
      "source": [
        "final_df = final_df.dropna(axis=0, subset=['LatLng'])"
      ],
      "execution_count": 0,
      "outputs": []
    },
    {
      "cell_type": "code",
      "metadata": {
        "id": "0puJA6LKx1S0",
        "colab_type": "code",
        "colab": {}
      },
      "source": [
        "from ast import literal_eval as make_tuple"
      ],
      "execution_count": 0,
      "outputs": []
    },
    {
      "cell_type": "code",
      "metadata": {
        "id": "wuX-R1rVvyVZ",
        "colab_type": "code",
        "outputId": "67ce2831-c816-4445-d499-5eb07b2c9fd6",
        "colab": {
          "base_uri": "https://localhost:8080/",
          "height": 68
        }
      },
      "source": [
        "make_tuple(final_df[occupied_filter]['LatLng'][0])"
      ],
      "execution_count": 0,
      "outputs": [
        {
          "output_type": "stream",
          "text": [
            "/usr/local/lib/python3.6/dist-packages/ipykernel_launcher.py:1: UserWarning: Boolean Series key will be reindexed to match DataFrame index.\n",
            "  \"\"\"Entry point for launching an IPython kernel.\n"
          ],
          "name": "stderr"
        },
        {
          "output_type": "execute_result",
          "data": {
            "text/plain": [
              "(34.060982, -118.238105)"
            ]
          },
          "metadata": {
            "tags": []
          },
          "execution_count": 76
        }
      ]
    },
    {
      "cell_type": "code",
      "metadata": {
        "id": "aaTsHlmGx_5r",
        "colab_type": "code",
        "colab": {}
      },
      "source": [
        "final_df['LatLng'] = final_df['LatLng'].apply(make_tuple)"
      ],
      "execution_count": 0,
      "outputs": []
    },
    {
      "cell_type": "code",
      "metadata": {
        "id": "yYxHXFsLyJ-A",
        "colab_type": "code",
        "outputId": "f5cac142-4629-4c82-8bc0-5711f6da9b2f",
        "colab": {
          "base_uri": "https://localhost:8080/",
          "height": 34
        }
      },
      "source": [
        "final_df['LatLng'][0][1]"
      ],
      "execution_count": 0,
      "outputs": [
        {
          "output_type": "execute_result",
          "data": {
            "text/plain": [
              "-118.238105"
            ]
          },
          "metadata": {
            "tags": []
          },
          "execution_count": 91
        }
      ]
    },
    {
      "cell_type": "code",
      "metadata": {
        "id": "dHX_97mrjGDS",
        "colab_type": "code",
        "colab": {}
      },
      "source": [
        "parking_space_list=[]\n",
        "for point in final_df[occupied_filter]['LatLng']:\n",
        "  point=(,float(point['longitude']))\n",
        "  parking_space_list.append(point)"
      ],
      "execution_count": 0,
      "outputs": []
    },
    {
      "cell_type": "code",
      "metadata": {
        "id": "7XhLcknkx9Gk",
        "colab_type": "code",
        "colab": {}
      },
      "source": [
        ""
      ],
      "execution_count": 0,
      "outputs": []
    },
    {
      "cell_type": "code",
      "metadata": {
        "id": "pB1JtUYBjtTu",
        "colab_type": "code",
        "outputId": "24292a66-682e-441d-c86e-e4596cfd4240",
        "colab": {
          "base_uri": "https://localhost:8080/",
          "height": 34
        }
      },
      "source": [
        "len(parking_space_list)"
      ],
      "execution_count": 0,
      "outputs": [
        {
          "output_type": "execute_result",
          "data": {
            "text/plain": [
              "1000"
            ]
          },
          "metadata": {
            "tags": []
          },
          "execution_count": 25
        }
      ]
    },
    {
      "cell_type": "code",
      "metadata": {
        "id": "DRuvOaNMgaZG",
        "colab_type": "code",
        "colab": {}
      },
      "source": [
        "# Create a map using the Map() function and the coordinates for Boulder, CO\n",
        "m = folium.Map(location=[x, y])\n",
        "\n",
        "# Display the map\n",
        "m"
      ],
      "execution_count": 0,
      "outputs": []
    },
    {
      "cell_type": "code",
      "metadata": {
        "id": "n-0mBYnhkaqt",
        "colab_type": "code",
        "colab": {}
      },
      "source": [
        "for point in final_df['LatLng'][occupied_filter]:\n",
        "    folium.Marker(point).add_to(m)"
      ],
      "execution_count": 0,
      "outputs": []
    },
    {
      "cell_type": "code",
      "metadata": {
        "id": "L-HBOP7T-N5T",
        "colab_type": "code",
        "outputId": "bcfbbd95-1af2-4a25-f3f5-2304ccd15c79",
        "colab": {
          "base_uri": "https://localhost:8080/",
          "height": 51
        }
      },
      "source": [
        "pip install geopy"
      ],
      "execution_count": 0,
      "outputs": [
        {
          "output_type": "stream",
          "text": [
            "Requirement already satisfied: geopy in /usr/local/lib/python3.6/dist-packages (1.17.0)\n",
            "Requirement already satisfied: geographiclib<2,>=1.49 in /usr/local/lib/python3.6/dist-packages (from geopy) (1.49)\n"
          ],
          "name": "stdout"
        }
      ]
    },
    {
      "cell_type": "code",
      "metadata": {
        "id": "9pCWK1Ku_4gN",
        "colab_type": "code",
        "colab": {}
      },
      "source": [
        "address=\"523 W 7th St. Los Angeles, CA 90017\"\n",
        "home=\"523 W 7th St. Los Angeles, CA 90017\""
      ],
      "execution_count": 0,
      "outputs": []
    },
    {
      "cell_type": "code",
      "metadata": {
        "id": "8qZJThXPAT3Q",
        "colab_type": "code",
        "colab": {}
      },
      "source": [
        "from geopy.geocoders import Nominatim \n",
        "geolocator = Nominatim()\n",
        "location = geolocator.geocode(address) \n",
        "home_location = geolocator.geocode(home)\n",
        "print((location.latitude, location.longitude), (home_location.latitude,home_location.longitude)) \n",
        "m = folium.Map(location=[location.latitude, location.longitude])\n",
        "folium.Marker((location.latitude, location.longitude)).add_to(m)\n",
        "m"
      ],
      "execution_count": 0,
      "outputs": []
    },
    {
      "cell_type": "code",
      "metadata": {
        "id": "uZLj1gVOBjJX",
        "colab_type": "code",
        "colab": {}
      },
      "source": [
        ""
      ],
      "execution_count": 0,
      "outputs": []
    },
    {
      "cell_type": "code",
      "metadata": {
        "id": "SgOMlY1ClCPo",
        "colab_type": "code",
        "colab": {}
      },
      "source": [
        "from ast import literal_eval as make_tuple\n",
        "import pandas as pd\n",
        "from geopy.distance import geodesic\n",
        "\n",
        "class meter_data():\n",
        "  def __init__(self, address=\"523 W 7th St. Los Angeles, CA 90017\"):\n",
        "    self.address = address\n",
        "    geolocator = Nominatim()\n",
        "    self.location = geolocator.geocode(self.address)\n",
        "    self.df_inventory = pd.read_csv('/content/drive/My Drive/Parking_Meter_Inventory.csv')\n",
        "    self.df_inventory['LatLng'] = self.df_inventory['LatLng'].apply(make_tuple)\n",
        "    #print(self.df_inventory.head())\n",
        "    self.df_inventory = self.df_inventory.dropna(axis=0, subset=['LatLng'])\n",
        "    self.df_inventory = self.df_inventory.rename(columns={'SpaceID':'spaceid'})\n",
        "    self.get_occupancy()\n",
        "    self.output_df=pd.merge(self.df_occ, self.df_inventory, on='spaceid',how='inner')\n",
        "    self.filter_by_location(self.address)\n",
        "    self.render()\n",
        "    \n",
        "    pass\n",
        "  \n",
        "  def get_occupancy(self):\n",
        "    occupid_api = 'https://data.lacity.org/resource/e7h6-4a3e.json'\n",
        "    occupid_data = requests.get(occupid_api).json()\n",
        "    self.df_occ = pd.DataFrame(occupid_data)\n",
        "    \n",
        "    \n",
        "    pass\n",
        "  \n",
        "  def render(self):\n",
        "    self.m = folium.Map(location=[self.location.latitude, self.location.longitude],zoom_start=16)\n",
        "    for index, row in self.display_df.iterrows():\n",
        "      folium.Marker((row['LatLng'][0], row['LatLng'][1])).add_to(self.m)\n",
        "    return self.m\n",
        "  \n",
        "  def set_address(self,address):\n",
        "    geolocator = Nominatim()\n",
        "    self.location = geolocator.geocode(address)\n",
        "    \n",
        "  def filter_by_location(self, address=\"\"):\n",
        "    self.set_address(address)\n",
        "    loc = (self.location.latitude, self.location.longitude)\n",
        "    distance=[]\n",
        "    for index,row in self.output_df.iterrows():\n",
        "      dist = geodesic(row['LatLng'],loc).miles\n",
        "      distance.append(dist)\n",
        "      \n",
        "    self.output_df['distance']=distance\n",
        "    location_filter=self.output_df['distance']<.5\n",
        "    vacant_filter=self.output_df['occupancystate']=='VACANT'\n",
        "    self.display_df = self.output_df[location_filter][vacant_filter]\n",
        "    return self.display_df\n",
        "  \n",
        "      \n",
        "      \n",
        "    \n",
        "    \n",
        "  "
      ],
      "execution_count": 0,
      "outputs": []
    },
    {
      "cell_type": "code",
      "metadata": {
        "id": "KW3j906QMNkj",
        "colab_type": "code",
        "outputId": "f61dbde3-d0a7-411f-f704-34e44943ef17",
        "colab": {
          "base_uri": "https://localhost:8080/",
          "height": 88
        }
      },
      "source": [
        "map1 = meter_data()"
      ],
      "execution_count": 0,
      "outputs": [
        {
          "output_type": "stream",
          "text": [
            "/usr/local/lib/python3.6/dist-packages/geopy/geocoders/osm.py:143: UserWarning: Using Nominatim with the default \"geopy/1.17.0\" `user_agent` is strongly discouraged, as it violates Nominatim's ToS https://operations.osmfoundation.org/policies/nominatim/ and may possibly cause 403 and 429 HTTP errors. Please specify a custom `user_agent` with `Nominatim(user_agent=\"my-application\")` or by overriding the default `user_agent`: `geopy.geocoders.options.default_user_agent = \"my-application\"`. In geopy 2.0 this will become an exception.\n",
            "  UserWarning\n",
            "/usr/local/lib/python3.6/dist-packages/ipykernel_launcher.py:51: UserWarning: Boolean Series key will be reindexed to match DataFrame index.\n"
          ],
          "name": "stderr"
        }
      ]
    },
    {
      "cell_type": "code",
      "metadata": {
        "id": "OHTMGbkAOHP-",
        "colab_type": "code",
        "colab": {}
      },
      "source": [
        "map1.render()"
      ],
      "execution_count": 0,
      "outputs": []
    },
    {
      "cell_type": "code",
      "metadata": {
        "id": "LbSt_WqNK450",
        "colab_type": "code",
        "outputId": "7c556a8e-7922-4eb0-9282-6f746116eea9",
        "colab": {
          "base_uri": "https://localhost:8080/",
          "height": 105
        }
      },
      "source": [
        "map1.filter_by_location(address).shape"
      ],
      "execution_count": 0,
      "outputs": [
        {
          "output_type": "stream",
          "text": [
            "/usr/local/lib/python3.6/dist-packages/geopy/geocoders/osm.py:143: UserWarning: Using Nominatim with the default \"geopy/1.17.0\" `user_agent` is strongly discouraged, as it violates Nominatim's ToS https://operations.osmfoundation.org/policies/nominatim/ and may possibly cause 403 and 429 HTTP errors. Please specify a custom `user_agent` with `Nominatim(user_agent=\"my-application\")` or by overriding the default `user_agent`: `geopy.geocoders.options.default_user_agent = \"my-application\"`. In geopy 2.0 this will become an exception.\n",
            "  UserWarning\n",
            "/usr/local/lib/python3.6/dist-packages/ipykernel_launcher.py:49: UserWarning: Boolean Series key will be reindexed to match DataFrame index.\n"
          ],
          "name": "stderr"
        },
        {
          "output_type": "execute_result",
          "data": {
            "text/plain": [
              "(284, 12)"
            ]
          },
          "metadata": {
            "tags": []
          },
          "execution_count": 68
        }
      ]
    },
    {
      "cell_type": "code",
      "metadata": {
        "id": "k__sAVPsOGwx",
        "colab_type": "code",
        "colab": {}
      },
      "source": [
        "map1.display_df"
      ],
      "execution_count": 0,
      "outputs": []
    }
  ]
}