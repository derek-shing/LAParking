{
  "nbformat": 4,
  "nbformat_minor": 0,
  "metadata": {
    "colab": {
      "name": "LAParking.ipynb",
      "version": "0.3.2",
      "provenance": [],
      "include_colab_link": true
    },
    "kernelspec": {
      "name": "python3",
      "display_name": "Python 3"
    }
  },
  "cells": [
    {
      "cell_type": "markdown",
      "metadata": {
        "id": "view-in-github",
        "colab_type": "text"
      },
      "source": [
        "<a href=\"https://colab.research.google.com/github/derek-shing/LAParking/blob/master/LAParking.ipynb\" target=\"_parent\"><img src=\"https://colab.research.google.com/assets/colab-badge.svg\" alt=\"Open In Colab\"/></a>"
      ]
    },
    {
      "cell_type": "code",
      "metadata": {
        "id": "RtPdo7hpl3k7",
        "colab_type": "code",
        "colab": {
          "base_uri": "https://localhost:8080/",
          "height": 122
        },
        "outputId": "e77f8070-5172-40fa-f839-c9244da2e8da"
      },
      "source": [
        "# Loading Parking space table\n",
        "\n",
        "import requests\n",
        "import json\n",
        "import pandas as pd\n",
        "from google.colab import drive\n",
        "drive.mount('/content/drive')"
      ],
      "execution_count": 33,
      "outputs": [
        {
          "output_type": "stream",
          "text": [
            "Go to this URL in a browser: https://accounts.google.com/o/oauth2/auth?client_id=947318989803-6bn6qk8qdgf4n4g3pfee6491hc0brc4i.apps.googleusercontent.com&redirect_uri=urn%3Aietf%3Awg%3Aoauth%3A2.0%3Aoob&scope=email%20https%3A%2F%2Fwww.googleapis.com%2Fauth%2Fdocs.test%20https%3A%2F%2Fwww.googleapis.com%2Fauth%2Fdrive%20https%3A%2F%2Fwww.googleapis.com%2Fauth%2Fdrive.photos.readonly%20https%3A%2F%2Fwww.googleapis.com%2Fauth%2Fpeopleapi.readonly&response_type=code\n",
            "\n",
            "Enter your authorization code:\n",
            "··········\n",
            "Mounted at /content/drive\n"
          ],
          "name": "stdout"
        }
      ]
    },
    {
      "cell_type": "code",
      "metadata": {
        "id": "VTZASiZFmdhf",
        "colab_type": "code",
        "colab": {}
      },
      "source": [
        "endpoint = 'https://data.lacity.org/resource/s49e-q6j2.json'\n",
        "data = requests.get(endpoint).json()"
      ],
      "execution_count": 0,
      "outputs": []
    },
    {
      "cell_type": "code",
      "metadata": {
        "id": "bCJtqemEn64J",
        "colab_type": "code",
        "colab": {}
      },
      "source": [
        "df = pd.DataFrame(data)"
      ],
      "execution_count": 0,
      "outputs": []
    },
    {
      "cell_type": "code",
      "metadata": {
        "id": "LJhPFYQwn29M",
        "colab_type": "code",
        "colab": {}
      },
      "source": [
        "df_csv = pd.read_csv('/content/drive/My Drive/Parking_Meter_Inventory.csv')"
      ],
      "execution_count": 0,
      "outputs": []
    },
    {
      "cell_type": "code",
      "metadata": {
        "id": "kjx4TnbWoA1a",
        "colab_type": "code",
        "colab": {
          "base_uri": "https://localhost:8080/",
          "height": 34
        },
        "outputId": "34a2710f-1222-426b-e313-2d35f450d4f3"
      },
      "source": [
        "df_csv.shape"
      ],
      "execution_count": 35,
      "outputs": [
        {
          "output_type": "execute_result",
          "data": {
            "text/plain": [
              "(33989, 9)"
            ]
          },
          "metadata": {
            "tags": []
          },
          "execution_count": 35
        }
      ]
    },
    {
      "cell_type": "code",
      "metadata": {
        "id": "xrB7P0LSr7OS",
        "colab_type": "code",
        "colab": {}
      },
      "source": [
        ""
      ],
      "execution_count": 0,
      "outputs": []
    },
    {
      "cell_type": "code",
      "metadata": {
        "id": "2CVFAAxer0b5",
        "colab_type": "code",
        "colab": {}
      },
      "source": [
        "occupid_api = 'https://data.lacity.org/resource/e7h6-4a3e.json'\n",
        "occupid_data = requests.get(occupid_api).json()"
      ],
      "execution_count": 0,
      "outputs": []
    },
    {
      "cell_type": "code",
      "metadata": {
        "id": "86QIdSkxsHXE",
        "colab_type": "code",
        "colab": {}
      },
      "source": [
        "df_occ = pd.DataFrame(occupid_data)"
      ],
      "execution_count": 0,
      "outputs": []
    },
    {
      "cell_type": "code",
      "metadata": {
        "id": "65WJigevtqyJ",
        "colab_type": "code",
        "colab": {}
      },
      "source": [
        "df_csv = df_csv.rename(columns={'SpaceID':'spaceid'})"
      ],
      "execution_count": 0,
      "outputs": []
    },
    {
      "cell_type": "code",
      "metadata": {
        "id": "fSZbzOQwt2uX",
        "colab_type": "code",
        "colab": {
          "base_uri": "https://localhost:8080/",
          "height": 204
        },
        "outputId": "cb768d47-b7b1-4e5f-8b4a-482d15e9f0ee"
      },
      "source": [
        "df_csv.head()"
      ],
      "execution_count": 46,
      "outputs": [
        {
          "output_type": "execute_result",
          "data": {
            "text/html": [
              "<div>\n",
              "<style scoped>\n",
              "    .dataframe tbody tr th:only-of-type {\n",
              "        vertical-align: middle;\n",
              "    }\n",
              "\n",
              "    .dataframe tbody tr th {\n",
              "        vertical-align: top;\n",
              "    }\n",
              "\n",
              "    .dataframe thead th {\n",
              "        text-align: right;\n",
              "    }\n",
              "</style>\n",
              "<table border=\"1\" class=\"dataframe\">\n",
              "  <thead>\n",
              "    <tr style=\"text-align: right;\">\n",
              "      <th></th>\n",
              "      <th>spaceid</th>\n",
              "      <th>BlockFace</th>\n",
              "      <th>MeterType</th>\n",
              "      <th>RateType</th>\n",
              "      <th>RateRange</th>\n",
              "      <th>MeteredTimeLimit</th>\n",
              "      <th>ParkingPolicy</th>\n",
              "      <th>StreetCleaning</th>\n",
              "      <th>LatLng</th>\n",
              "    </tr>\n",
              "  </thead>\n",
              "  <tbody>\n",
              "    <tr>\n",
              "      <th>0</th>\n",
              "      <td>WU150</td>\n",
              "      <td>501 UNION DR</td>\n",
              "      <td>Single-Space</td>\n",
              "      <td>FLAT</td>\n",
              "      <td>$1.00</td>\n",
              "      <td>2HR</td>\n",
              "      <td>8A-6P Mon-Sat</td>\n",
              "      <td>12P-3P Mon</td>\n",
              "      <td>(34.057219, -118.268751)</td>\n",
              "    </tr>\n",
              "    <tr>\n",
              "      <th>1</th>\n",
              "      <td>MV161</td>\n",
              "      <td>12200 VENICE BL</td>\n",
              "      <td>Single-Space</td>\n",
              "      <td>FLAT</td>\n",
              "      <td>$1.00</td>\n",
              "      <td>2HR</td>\n",
              "      <td>8A-8P Mon-Sat</td>\n",
              "      <td>NaN</td>\n",
              "      <td>(34.0043, -118.432007)</td>\n",
              "    </tr>\n",
              "    <tr>\n",
              "      <th>2</th>\n",
              "      <td>ER138</td>\n",
              "      <td>2000 COLORADO BL</td>\n",
              "      <td>Single-Space</td>\n",
              "      <td>FLAT</td>\n",
              "      <td>$1.00</td>\n",
              "      <td>2HR</td>\n",
              "      <td>8A-8P Mon-Sat</td>\n",
              "      <td>NaN</td>\n",
              "      <td>(34.139067, -118.210994)</td>\n",
              "    </tr>\n",
              "    <tr>\n",
              "      <th>3</th>\n",
              "      <td>BF66</td>\n",
              "      <td>7901 BEVERLY BL</td>\n",
              "      <td>Single-Space</td>\n",
              "      <td>FLAT</td>\n",
              "      <td>$1.00</td>\n",
              "      <td>2HR</td>\n",
              "      <td>8A-8P Mon-Sat, 11A-8P Sun</td>\n",
              "      <td>NaN</td>\n",
              "      <td>(34.076203, -118.362266)</td>\n",
              "    </tr>\n",
              "    <tr>\n",
              "      <th>4</th>\n",
              "      <td>CB121</td>\n",
              "      <td>1301 S HOPE ST</td>\n",
              "      <td>Single-Space</td>\n",
              "      <td>TOD</td>\n",
              "      <td>$1 - $2</td>\n",
              "      <td>4HR</td>\n",
              "      <td>8A-8P Mon-Sat</td>\n",
              "      <td>NaN</td>\n",
              "      <td>(34.038863, -118.26618)</td>\n",
              "    </tr>\n",
              "  </tbody>\n",
              "</table>\n",
              "</div>"
            ],
            "text/plain": [
              "  spaceid         BlockFace  ... StreetCleaning                    LatLng\n",
              "0   WU150      501 UNION DR  ...     12P-3P Mon  (34.057219, -118.268751)\n",
              "1   MV161   12200 VENICE BL  ...            NaN    (34.0043, -118.432007)\n",
              "2   ER138  2000 COLORADO BL  ...            NaN  (34.139067, -118.210994)\n",
              "3    BF66   7901 BEVERLY BL  ...            NaN  (34.076203, -118.362266)\n",
              "4   CB121    1301 S HOPE ST  ...            NaN   (34.038863, -118.26618)\n",
              "\n",
              "[5 rows x 9 columns]"
            ]
          },
          "metadata": {
            "tags": []
          },
          "execution_count": 46
        }
      ]
    },
    {
      "cell_type": "code",
      "metadata": {
        "id": "zwlrF1mhr91t",
        "colab_type": "code",
        "colab": {
          "base_uri": "https://localhost:8080/",
          "height": 204
        },
        "outputId": "255ddd4a-42ee-4c9d-c117-69da4d1495fd"
      },
      "source": [
        "df_occ.head()"
      ],
      "execution_count": 41,
      "outputs": [
        {
          "output_type": "execute_result",
          "data": {
            "text/html": [
              "<div>\n",
              "<style scoped>\n",
              "    .dataframe tbody tr th:only-of-type {\n",
              "        vertical-align: middle;\n",
              "    }\n",
              "\n",
              "    .dataframe tbody tr th {\n",
              "        vertical-align: top;\n",
              "    }\n",
              "\n",
              "    .dataframe thead th {\n",
              "        text-align: right;\n",
              "    }\n",
              "</style>\n",
              "<table border=\"1\" class=\"dataframe\">\n",
              "  <thead>\n",
              "    <tr style=\"text-align: right;\">\n",
              "      <th></th>\n",
              "      <th>eventtime</th>\n",
              "      <th>occupancystate</th>\n",
              "      <th>spaceid</th>\n",
              "    </tr>\n",
              "  </thead>\n",
              "  <tbody>\n",
              "    <tr>\n",
              "      <th>0</th>\n",
              "      <td>2019-09-01T02:38:09.000</td>\n",
              "      <td>OCCUPIED</td>\n",
              "      <td>CT555</td>\n",
              "    </tr>\n",
              "    <tr>\n",
              "      <th>1</th>\n",
              "      <td>2019-09-01T02:38:02.000</td>\n",
              "      <td>VACANT</td>\n",
              "      <td>LT310</td>\n",
              "    </tr>\n",
              "    <tr>\n",
              "      <th>2</th>\n",
              "      <td>2019-09-01T02:38:00.000</td>\n",
              "      <td>OCCUPIED</td>\n",
              "      <td>WV223</td>\n",
              "    </tr>\n",
              "    <tr>\n",
              "      <th>3</th>\n",
              "      <td>2019-09-01T02:37:56.000</td>\n",
              "      <td>VACANT</td>\n",
              "      <td>WV216</td>\n",
              "    </tr>\n",
              "    <tr>\n",
              "      <th>4</th>\n",
              "      <td>2019-09-01T02:37:56.000</td>\n",
              "      <td>OCCUPIED</td>\n",
              "      <td>LT62</td>\n",
              "    </tr>\n",
              "  </tbody>\n",
              "</table>\n",
              "</div>"
            ],
            "text/plain": [
              "                 eventtime occupancystate spaceid\n",
              "0  2019-09-01T02:38:09.000       OCCUPIED   CT555\n",
              "1  2019-09-01T02:38:02.000         VACANT   LT310\n",
              "2  2019-09-01T02:38:00.000       OCCUPIED   WV223\n",
              "3  2019-09-01T02:37:56.000         VACANT   WV216\n",
              "4  2019-09-01T02:37:56.000       OCCUPIED    LT62"
            ]
          },
          "metadata": {
            "tags": []
          },
          "execution_count": 41
        }
      ]
    },
    {
      "cell_type": "code",
      "metadata": {
        "id": "hlmiM9Cht9kU",
        "colab_type": "code",
        "colab": {}
      },
      "source": [
        "final_df=pd.merge(df_occ, df_csv, on='spaceid',how='left')"
      ],
      "execution_count": 0,
      "outputs": []
    },
    {
      "cell_type": "code",
      "metadata": {
        "id": "vqMum0xSrnBI",
        "colab_type": "code",
        "colab": {}
      },
      "source": [
        "df.head()"
      ],
      "execution_count": 0,
      "outputs": []
    },
    {
      "cell_type": "code",
      "metadata": {
        "id": "nFCqX0JJuIO4",
        "colab_type": "code",
        "colab": {}
      },
      "source": [
        ""
      ],
      "execution_count": 0,
      "outputs": []
    },
    {
      "cell_type": "code",
      "metadata": {
        "id": "GvUXOTRbj4qy",
        "colab_type": "code",
        "colab": {
          "base_uri": "https://localhost:8080/",
          "height": 34
        },
        "outputId": "6504ebe4-935d-4e11-bcb8-e9965300cb0f"
      },
      "source": [
        "df.shape"
      ],
      "execution_count": 30,
      "outputs": [
        {
          "output_type": "execute_result",
          "data": {
            "text/plain": [
              "(1000, 15)"
            ]
          },
          "metadata": {
            "tags": []
          },
          "execution_count": 30
        }
      ]
    },
    {
      "cell_type": "code",
      "metadata": {
        "id": "86e5tqgEuKDd",
        "colab_type": "code",
        "colab": {
          "base_uri": "https://localhost:8080/",
          "height": 34
        },
        "outputId": "9612fcdd-00da-4bd7-d379-0fc4373f386a"
      },
      "source": [
        "final_df.shape"
      ],
      "execution_count": 85,
      "outputs": [
        {
          "output_type": "execute_result",
          "data": {
            "text/plain": [
              "(1000, 11)"
            ]
          },
          "metadata": {
            "tags": []
          },
          "execution_count": 85
        }
      ]
    },
    {
      "cell_type": "code",
      "metadata": {
        "id": "pEeR2pdOuNaU",
        "colab_type": "code",
        "colab": {
          "base_uri": "https://localhost:8080/",
          "height": 340
        },
        "outputId": "2c936abd-f3a2-4a31-ed10-b7360ab1b378"
      },
      "source": [
        "final_df.head()"
      ],
      "execution_count": 86,
      "outputs": [
        {
          "output_type": "execute_result",
          "data": {
            "text/html": [
              "<div>\n",
              "<style scoped>\n",
              "    .dataframe tbody tr th:only-of-type {\n",
              "        vertical-align: middle;\n",
              "    }\n",
              "\n",
              "    .dataframe tbody tr th {\n",
              "        vertical-align: top;\n",
              "    }\n",
              "\n",
              "    .dataframe thead th {\n",
              "        text-align: right;\n",
              "    }\n",
              "</style>\n",
              "<table border=\"1\" class=\"dataframe\">\n",
              "  <thead>\n",
              "    <tr style=\"text-align: right;\">\n",
              "      <th></th>\n",
              "      <th>eventtime</th>\n",
              "      <th>occupancystate</th>\n",
              "      <th>spaceid</th>\n",
              "      <th>BlockFace</th>\n",
              "      <th>MeterType</th>\n",
              "      <th>RateType</th>\n",
              "      <th>RateRange</th>\n",
              "      <th>MeteredTimeLimit</th>\n",
              "      <th>ParkingPolicy</th>\n",
              "      <th>StreetCleaning</th>\n",
              "      <th>LatLng</th>\n",
              "    </tr>\n",
              "  </thead>\n",
              "  <tbody>\n",
              "    <tr>\n",
              "      <th>0</th>\n",
              "      <td>2019-09-01T02:38:09.000</td>\n",
              "      <td>OCCUPIED</td>\n",
              "      <td>CT555</td>\n",
              "      <td>700 NEW HIGH ST</td>\n",
              "      <td>Single-Space</td>\n",
              "      <td>TOD</td>\n",
              "      <td>$0.5 - $1.5</td>\n",
              "      <td>4HR</td>\n",
              "      <td>8A-8P Mon-Sat</td>\n",
              "      <td>4A-630A Thu</td>\n",
              "      <td>(34.060982, -118.238105)</td>\n",
              "    </tr>\n",
              "    <tr>\n",
              "      <th>1</th>\n",
              "      <td>2019-09-01T02:38:02.000</td>\n",
              "      <td>VACANT</td>\n",
              "      <td>LT310</td>\n",
              "      <td>300 BOYD ST</td>\n",
              "      <td>Single-Space</td>\n",
              "      <td>TOD</td>\n",
              "      <td>$0.5 - $4</td>\n",
              "      <td>2HR</td>\n",
              "      <td>PKG 8A-6P Mon-Sat | NP 7P-7A Nightly</td>\n",
              "      <td>NaN</td>\n",
              "      <td>(34.046815, -118.243275)</td>\n",
              "    </tr>\n",
              "    <tr>\n",
              "      <th>2</th>\n",
              "      <td>2019-09-01T02:38:00.000</td>\n",
              "      <td>OCCUPIED</td>\n",
              "      <td>WV223</td>\n",
              "      <td>10900 WEYBURN AV</td>\n",
              "      <td>Single-Space</td>\n",
              "      <td>TOD</td>\n",
              "      <td>$1 - $2</td>\n",
              "      <td>2HR</td>\n",
              "      <td>8A-8P Mon-Thu, 8A-12A Fri-Sat, 11A-8P Sun</td>\n",
              "      <td>NaN</td>\n",
              "      <td>(34.062496, -118.445753)</td>\n",
              "    </tr>\n",
              "    <tr>\n",
              "      <th>3</th>\n",
              "      <td>2019-09-01T02:37:56.000</td>\n",
              "      <td>VACANT</td>\n",
              "      <td>WV216</td>\n",
              "      <td>10900 WEYBURN AV</td>\n",
              "      <td>Single-Space</td>\n",
              "      <td>TOD</td>\n",
              "      <td>$1 - $2</td>\n",
              "      <td>2HR</td>\n",
              "      <td>8A-8P Mon-Thu, 8A-12A Fri-Sat, 11A-8P Sun</td>\n",
              "      <td>NaN</td>\n",
              "      <td>(34.062507, -118.446446)</td>\n",
              "    </tr>\n",
              "    <tr>\n",
              "      <th>4</th>\n",
              "      <td>2019-09-01T02:37:56.000</td>\n",
              "      <td>OCCUPIED</td>\n",
              "      <td>LT62</td>\n",
              "      <td>301 E 2ND ST</td>\n",
              "      <td>Single-Space</td>\n",
              "      <td>TOD</td>\n",
              "      <td>$0.5 - $4</td>\n",
              "      <td>2HR</td>\n",
              "      <td>8A-8P Mon-Sat</td>\n",
              "      <td>NaN</td>\n",
              "      <td>(34.048229, -118.239982)</td>\n",
              "    </tr>\n",
              "  </tbody>\n",
              "</table>\n",
              "</div>"
            ],
            "text/plain": [
              "                 eventtime  ...                    LatLng\n",
              "0  2019-09-01T02:38:09.000  ...  (34.060982, -118.238105)\n",
              "1  2019-09-01T02:38:02.000  ...  (34.046815, -118.243275)\n",
              "2  2019-09-01T02:38:00.000  ...  (34.062496, -118.445753)\n",
              "3  2019-09-01T02:37:56.000  ...  (34.062507, -118.446446)\n",
              "4  2019-09-01T02:37:56.000  ...  (34.048229, -118.239982)\n",
              "\n",
              "[5 rows x 11 columns]"
            ]
          },
          "metadata": {
            "tags": []
          },
          "execution_count": 86
        }
      ]
    },
    {
      "cell_type": "code",
      "metadata": {
        "id": "F1MBS3s4uXGW",
        "colab_type": "code",
        "colab": {}
      },
      "source": [
        "occupied_filter= final_df['occupancystate']=='OCCUPIED'\n",
        "vacant_filter= final_df['occupancystate']=='VACANT'"
      ],
      "execution_count": 0,
      "outputs": []
    },
    {
      "cell_type": "code",
      "metadata": {
        "id": "WvLnrwQvu3Gl",
        "colab_type": "code",
        "colab": {
          "base_uri": "https://localhost:8080/",
          "height": 34
        },
        "outputId": "07cb0d60-8fc0-4762-cb7a-a053cb7e350d"
      },
      "source": [
        "final_df[occupied_filter].shape"
      ],
      "execution_count": 55,
      "outputs": [
        {
          "output_type": "execute_result",
          "data": {
            "text/plain": [
              "(506, 11)"
            ]
          },
          "metadata": {
            "tags": []
          },
          "execution_count": 55
        }
      ]
    },
    {
      "cell_type": "code",
      "metadata": {
        "id": "3oAU7pQ5vAfZ",
        "colab_type": "code",
        "colab": {
          "base_uri": "https://localhost:8080/",
          "height": 340
        },
        "outputId": "1b6a1c5d-3c38-42fe-da31-7d737e24b17c"
      },
      "source": [
        "final_df[vacant_filter].head()"
      ],
      "execution_count": 58,
      "outputs": [
        {
          "output_type": "execute_result",
          "data": {
            "text/html": [
              "<div>\n",
              "<style scoped>\n",
              "    .dataframe tbody tr th:only-of-type {\n",
              "        vertical-align: middle;\n",
              "    }\n",
              "\n",
              "    .dataframe tbody tr th {\n",
              "        vertical-align: top;\n",
              "    }\n",
              "\n",
              "    .dataframe thead th {\n",
              "        text-align: right;\n",
              "    }\n",
              "</style>\n",
              "<table border=\"1\" class=\"dataframe\">\n",
              "  <thead>\n",
              "    <tr style=\"text-align: right;\">\n",
              "      <th></th>\n",
              "      <th>eventtime</th>\n",
              "      <th>occupancystate</th>\n",
              "      <th>spaceid</th>\n",
              "      <th>BlockFace</th>\n",
              "      <th>MeterType</th>\n",
              "      <th>RateType</th>\n",
              "      <th>RateRange</th>\n",
              "      <th>MeteredTimeLimit</th>\n",
              "      <th>ParkingPolicy</th>\n",
              "      <th>StreetCleaning</th>\n",
              "      <th>LatLng</th>\n",
              "    </tr>\n",
              "  </thead>\n",
              "  <tbody>\n",
              "    <tr>\n",
              "      <th>1</th>\n",
              "      <td>2019-09-01T02:38:02.000</td>\n",
              "      <td>VACANT</td>\n",
              "      <td>LT310</td>\n",
              "      <td>300 BOYD ST</td>\n",
              "      <td>Single-Space</td>\n",
              "      <td>TOD</td>\n",
              "      <td>$0.5 - $4</td>\n",
              "      <td>2HR</td>\n",
              "      <td>PKG 8A-6P Mon-Sat | NP 7P-7A Nightly</td>\n",
              "      <td>NaN</td>\n",
              "      <td>(34.046815, -118.243275)</td>\n",
              "    </tr>\n",
              "    <tr>\n",
              "      <th>3</th>\n",
              "      <td>2019-09-01T02:37:56.000</td>\n",
              "      <td>VACANT</td>\n",
              "      <td>WV216</td>\n",
              "      <td>10900 WEYBURN AV</td>\n",
              "      <td>Single-Space</td>\n",
              "      <td>TOD</td>\n",
              "      <td>$1 - $2</td>\n",
              "      <td>2HR</td>\n",
              "      <td>8A-8P Mon-Thu, 8A-12A Fri-Sat, 11A-8P Sun</td>\n",
              "      <td>NaN</td>\n",
              "      <td>(34.062507, -118.446446)</td>\n",
              "    </tr>\n",
              "    <tr>\n",
              "      <th>7</th>\n",
              "      <td>2019-09-01T02:37:49.000</td>\n",
              "      <td>VACANT</td>\n",
              "      <td>CB3930</td>\n",
              "      <td>400 S WALL ST</td>\n",
              "      <td>Single-Space</td>\n",
              "      <td>TOD</td>\n",
              "      <td>$0.5 - $1.5</td>\n",
              "      <td>4HR</td>\n",
              "      <td>PKG 8A-6P Mon-Sat | NP 7P-7A Nightly</td>\n",
              "      <td>NaN</td>\n",
              "      <td>(34.045013, -118.245596)</td>\n",
              "    </tr>\n",
              "    <tr>\n",
              "      <th>10</th>\n",
              "      <td>2019-09-01T02:37:43.000</td>\n",
              "      <td>VACANT</td>\n",
              "      <td>CB3235</td>\n",
              "      <td>400 W. 8TH ST</td>\n",
              "      <td>Single-Space</td>\n",
              "      <td>FLAT</td>\n",
              "      <td>$4.00</td>\n",
              "      <td>4HR</td>\n",
              "      <td>8A-8P Mon-Sat</td>\n",
              "      <td>NaN</td>\n",
              "      <td>(34.044706, -118.25629)</td>\n",
              "    </tr>\n",
              "    <tr>\n",
              "      <th>13</th>\n",
              "      <td>2019-09-01T02:37:40.000</td>\n",
              "      <td>VACANT</td>\n",
              "      <td>LT60A</td>\n",
              "      <td>301 E 2ND ST</td>\n",
              "      <td>Single-Space</td>\n",
              "      <td>TOD</td>\n",
              "      <td>$0.5 - $4</td>\n",
              "      <td>2HR</td>\n",
              "      <td>8A-8P Mon-Sat</td>\n",
              "      <td>NaN</td>\n",
              "      <td>(34.048154, -118.239868)</td>\n",
              "    </tr>\n",
              "  </tbody>\n",
              "</table>\n",
              "</div>"
            ],
            "text/plain": [
              "                  eventtime  ...                    LatLng\n",
              "1   2019-09-01T02:38:02.000  ...  (34.046815, -118.243275)\n",
              "3   2019-09-01T02:37:56.000  ...  (34.062507, -118.446446)\n",
              "7   2019-09-01T02:37:49.000  ...  (34.045013, -118.245596)\n",
              "10  2019-09-01T02:37:43.000  ...   (34.044706, -118.25629)\n",
              "13  2019-09-01T02:37:40.000  ...  (34.048154, -118.239868)\n",
              "\n",
              "[5 rows x 11 columns]"
            ]
          },
          "metadata": {
            "tags": []
          },
          "execution_count": 58
        }
      ]
    },
    {
      "cell_type": "code",
      "metadata": {
        "id": "w1pcJYCDgWlz",
        "colab_type": "code",
        "colab": {}
      },
      "source": [
        "import folium\n",
        "from folium import plugins\n"
      ],
      "execution_count": 0,
      "outputs": []
    },
    {
      "cell_type": "code",
      "metadata": {
        "id": "vZEOX2AXheGW",
        "colab_type": "code",
        "colab": {
          "base_uri": "https://localhost:8080/",
          "height": 34
        },
        "outputId": "796d1010-ba9f-4dfa-e610-f55c6b8ed4e4"
      },
      "source": [
        "df['latlng'][0]"
      ],
      "execution_count": 13,
      "outputs": [
        {
          "output_type": "execute_result",
          "data": {
            "text/plain": [
              "{'latitude': '34.057219', 'longitude': '-118.268751'}"
            ]
          },
          "metadata": {
            "tags": []
          },
          "execution_count": 13
        }
      ]
    },
    {
      "cell_type": "code",
      "metadata": {
        "id": "sLBgDydfhCz7",
        "colab_type": "code",
        "colab": {}
      },
      "source": [
        "x = df['latlng'][0]['latitude']\n",
        "y = df['latlng'][0]['longitude']"
      ],
      "execution_count": 0,
      "outputs": []
    },
    {
      "cell_type": "code",
      "metadata": {
        "id": "aFMj09ZnhuD5",
        "colab_type": "code",
        "colab": {}
      },
      "source": [
        "x = float(x)\n",
        "y = float(y)"
      ],
      "execution_count": 0,
      "outputs": []
    },
    {
      "cell_type": "code",
      "metadata": {
        "id": "-7tt219XwiCz",
        "colab_type": "code",
        "colab": {}
      },
      "source": [
        "final_df = final_df.dropna(axis=0, subset=['LatLng'])"
      ],
      "execution_count": 0,
      "outputs": []
    },
    {
      "cell_type": "code",
      "metadata": {
        "id": "0puJA6LKx1S0",
        "colab_type": "code",
        "colab": {}
      },
      "source": [
        "from ast import literal_eval as make_tuple"
      ],
      "execution_count": 0,
      "outputs": []
    },
    {
      "cell_type": "code",
      "metadata": {
        "id": "wuX-R1rVvyVZ",
        "colab_type": "code",
        "colab": {
          "base_uri": "https://localhost:8080/",
          "height": 68
        },
        "outputId": "67ce2831-c816-4445-d499-5eb07b2c9fd6"
      },
      "source": [
        "make_tuple(final_df[occupied_filter]['LatLng'][0])"
      ],
      "execution_count": 76,
      "outputs": [
        {
          "output_type": "stream",
          "text": [
            "/usr/local/lib/python3.6/dist-packages/ipykernel_launcher.py:1: UserWarning: Boolean Series key will be reindexed to match DataFrame index.\n",
            "  \"\"\"Entry point for launching an IPython kernel.\n"
          ],
          "name": "stderr"
        },
        {
          "output_type": "execute_result",
          "data": {
            "text/plain": [
              "(34.060982, -118.238105)"
            ]
          },
          "metadata": {
            "tags": []
          },
          "execution_count": 76
        }
      ]
    },
    {
      "cell_type": "code",
      "metadata": {
        "id": "aaTsHlmGx_5r",
        "colab_type": "code",
        "colab": {}
      },
      "source": [
        "final_df['LatLng'] = final_df['LatLng'].apply(make_tuple)"
      ],
      "execution_count": 0,
      "outputs": []
    },
    {
      "cell_type": "code",
      "metadata": {
        "id": "yYxHXFsLyJ-A",
        "colab_type": "code",
        "colab": {
          "base_uri": "https://localhost:8080/",
          "height": 34
        },
        "outputId": "f5cac142-4629-4c82-8bc0-5711f6da9b2f"
      },
      "source": [
        "final_df['LatLng'][0][1]"
      ],
      "execution_count": 91,
      "outputs": [
        {
          "output_type": "execute_result",
          "data": {
            "text/plain": [
              "-118.238105"
            ]
          },
          "metadata": {
            "tags": []
          },
          "execution_count": 91
        }
      ]
    },
    {
      "cell_type": "code",
      "metadata": {
        "id": "dHX_97mrjGDS",
        "colab_type": "code",
        "colab": {}
      },
      "source": [
        "parking_space_list=[]\n",
        "for point in final_df[occupied_filter]['LatLng']:\n",
        "  point=(,float(point['longitude']))\n",
        "  parking_space_list.append(point)"
      ],
      "execution_count": 0,
      "outputs": []
    },
    {
      "cell_type": "code",
      "metadata": {
        "id": "7XhLcknkx9Gk",
        "colab_type": "code",
        "colab": {}
      },
      "source": [
        ""
      ],
      "execution_count": 0,
      "outputs": []
    },
    {
      "cell_type": "code",
      "metadata": {
        "id": "pB1JtUYBjtTu",
        "colab_type": "code",
        "colab": {
          "base_uri": "https://localhost:8080/",
          "height": 34
        },
        "outputId": "24292a66-682e-441d-c86e-e4596cfd4240"
      },
      "source": [
        "len(parking_space_list)"
      ],
      "execution_count": 25,
      "outputs": [
        {
          "output_type": "execute_result",
          "data": {
            "text/plain": [
              "1000"
            ]
          },
          "metadata": {
            "tags": []
          },
          "execution_count": 25
        }
      ]
    },
    {
      "cell_type": "code",
      "metadata": {
        "id": "DRuvOaNMgaZG",
        "colab_type": "code",
        "colab": {}
      },
      "source": [
        "# Create a map using the Map() function and the coordinates for Boulder, CO\n",
        "m = folium.Map(location=[x, y])\n",
        "\n",
        "# Display the map\n",
        "m"
      ],
      "execution_count": 0,
      "outputs": []
    },
    {
      "cell_type": "code",
      "metadata": {
        "id": "n-0mBYnhkaqt",
        "colab_type": "code",
        "colab": {}
      },
      "source": [
        "for point in final_df['LatLng'][occupied_filter]:\n",
        "    folium.Marker(point).add_to(m)"
      ],
      "execution_count": 0,
      "outputs": []
    },
    {
      "cell_type": "code",
      "metadata": {
        "id": "SgOMlY1ClCPo",
        "colab_type": "code",
        "colab": {
          "base_uri": "https://localhost:8080/",
          "height": 769
        },
        "outputId": "a5732d84-5421-471e-ef22-fd5d8ba8b02f"
      },
      "source": [
        "m"
      ],
      "execution_count": 96,
      "outputs": [
        {
          "output_type": "execute_result",
          "data": {
            "text/html": [
              "<div style=\"width:100%;\"><div style=\"position:relative;width:100%;height:0;padding-bottom:60%;\"><iframe src=\"data:text/html;charset=utf-8;base64,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\" style=\"position:absolute;width:100%;height:100%;left:0;top:0;border:none !important;\" allowfullscreen webkitallowfullscreen mozallowfullscreen></iframe></div></div>"
            ],
            "text/plain": [
              "<folium.folium.Map at 0x7fa8a9d238d0>"
            ]
          },
          "metadata": {
            "tags": []
          },
          "execution_count": 96
        }
      ]
    }
  ]
}