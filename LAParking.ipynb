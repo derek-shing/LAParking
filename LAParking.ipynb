{
  "nbformat": 4,
  "nbformat_minor": 0,
  "metadata": {
    "colab": {
      "name": "LAParking.ipynb",
      "version": "0.3.2",
      "provenance": [],
      "include_colab_link": true
    },
    "kernelspec": {
      "name": "python3",
      "display_name": "Python 3"
    }
  },
  "cells": [
    {
      "cell_type": "markdown",
      "metadata": {
        "id": "view-in-github",
        "colab_type": "text"
      },
      "source": [
        "<a href=\"https://colab.research.google.com/github/derek-shing/LAParking/blob/master/LAParking.ipynb\" target=\"_parent\"><img src=\"https://colab.research.google.com/assets/colab-badge.svg\" alt=\"Open In Colab\"/></a>"
      ]
    },
    {
      "cell_type": "code",
      "metadata": {
        "id": "RtPdo7hpl3k7",
        "colab_type": "code",
        "colab": {}
      },
      "source": [
        "# Loading Parking space table\n",
        "\n",
        "import requests\n",
        "import json\n",
        "import pandas as pd"
      ],
      "execution_count": 0,
      "outputs": []
    },
    {
      "cell_type": "code",
      "metadata": {
        "id": "fkevMKVTmlox",
        "colab_type": "code",
        "colab": {}
      },
      "source": [
        ""
      ],
      "execution_count": 0,
      "outputs": []
    },
    {
      "cell_type": "code",
      "metadata": {
        "id": "VTZASiZFmdhf",
        "colab_type": "code",
        "colab": {}
      },
      "source": [
        "endpoint = 'https://data.lacity.org/resource/s49e-q6j2.json'\n",
        "data = requests.get(endpoint).json()"
      ],
      "execution_count": 0,
      "outputs": []
    },
    {
      "cell_type": "code",
      "metadata": {
        "id": "c_rUFrIDmrw2",
        "colab_type": "code",
        "colab": {
          "base_uri": "https://localhost:8080/",
          "height": 34
        },
        "outputId": "15dc017f-0bb6-425b-fc19-1ae8b80f453a"
      },
      "source": [
        "type(data)"
      ],
      "execution_count": 30,
      "outputs": [
        {
          "output_type": "execute_result",
          "data": {
            "text/plain": [
              "list"
            ]
          },
          "metadata": {
            "tags": []
          },
          "execution_count": 30
        }
      ]
    },
    {
      "cell_type": "code",
      "metadata": {
        "id": "bCJtqemEn64J",
        "colab_type": "code",
        "colab": {}
      },
      "source": [
        "df = pd.DataFrame(data)"
      ],
      "execution_count": 0,
      "outputs": []
    },
    {
      "cell_type": "code",
      "metadata": {
        "id": "vqMum0xSrnBI",
        "colab_type": "code",
        "colab": {
          "base_uri": "https://localhost:8080/",
          "height": 479
        },
        "outputId": "799564e2-0801-4388-8349-7f2cce53a33f"
      },
      "source": [
        "df.head()"
      ],
      "execution_count": 33,
      "outputs": [
        {
          "output_type": "execute_result",
          "data": {
            "text/html": [
              "<div>\n",
              "<style scoped>\n",
              "    .dataframe tbody tr th:only-of-type {\n",
              "        vertical-align: middle;\n",
              "    }\n",
              "\n",
              "    .dataframe tbody tr th {\n",
              "        vertical-align: top;\n",
              "    }\n",
              "\n",
              "    .dataframe thead th {\n",
              "        text-align: right;\n",
              "    }\n",
              "</style>\n",
              "<table border=\"1\" class=\"dataframe\">\n",
              "  <thead>\n",
              "    <tr style=\"text-align: right;\">\n",
              "      <th></th>\n",
              "      <th>:@computed_region_2dna_qi2s</th>\n",
              "      <th>:@computed_region_k96s_3jcv</th>\n",
              "      <th>:@computed_region_kqwf_mjcx</th>\n",
              "      <th>:@computed_region_qz3q_ghft</th>\n",
              "      <th>:@computed_region_tatf_ua23</th>\n",
              "      <th>:@computed_region_ur2y_g4cx</th>\n",
              "      <th>blockface</th>\n",
              "      <th>latlng</th>\n",
              "      <th>metertype</th>\n",
              "      <th>parkingpolicy</th>\n",
              "      <th>raterange</th>\n",
              "      <th>ratetype</th>\n",
              "      <th>spaceid</th>\n",
              "      <th>stcl</th>\n",
              "      <th>timelimit</th>\n",
              "    </tr>\n",
              "  </thead>\n",
              "  <tbody>\n",
              "    <tr>\n",
              "      <th>0</th>\n",
              "      <td>67</td>\n",
              "      <td>564</td>\n",
              "      <td>11</td>\n",
              "      <td>23078</td>\n",
              "      <td>836</td>\n",
              "      <td>NaN</td>\n",
              "      <td>501 UNION DR</td>\n",
              "      <td>{'latitude': '34.057219', 'longitude': '-118.2...</td>\n",
              "      <td>Single-Space</td>\n",
              "      <td>8A-6P Mon-Sat</td>\n",
              "      <td>$1.00</td>\n",
              "      <td>FLAT</td>\n",
              "      <td>WU150</td>\n",
              "      <td>12P-3P Mon</td>\n",
              "      <td>2HR</td>\n",
              "    </tr>\n",
              "    <tr>\n",
              "      <th>1</th>\n",
              "      <td>27</td>\n",
              "      <td>904</td>\n",
              "      <td>10</td>\n",
              "      <td>24031</td>\n",
              "      <td>1244</td>\n",
              "      <td>10</td>\n",
              "      <td>12200 VENICE BL</td>\n",
              "      <td>{'latitude': '34.0043', 'longitude': '-118.432...</td>\n",
              "      <td>Single-Space</td>\n",
              "      <td>8A-8P Mon-Sat</td>\n",
              "      <td>$1.00</td>\n",
              "      <td>FLAT</td>\n",
              "      <td>MV161</td>\n",
              "      <td>NaN</td>\n",
              "      <td>2HR</td>\n",
              "    </tr>\n",
              "    <tr>\n",
              "      <th>2</th>\n",
              "      <td>60</td>\n",
              "      <td>356</td>\n",
              "      <td>9</td>\n",
              "      <td>23672</td>\n",
              "      <td>401</td>\n",
              "      <td>30</td>\n",
              "      <td>2000 COLORADO BL</td>\n",
              "      <td>{'latitude': '34.139067', 'longitude': '-118.2...</td>\n",
              "      <td>Single-Space</td>\n",
              "      <td>8A-8P Mon-Sat</td>\n",
              "      <td>$1.00</td>\n",
              "      <td>FLAT</td>\n",
              "      <td>ER138</td>\n",
              "      <td>NaN</td>\n",
              "      <td>2HR</td>\n",
              "    </tr>\n",
              "    <tr>\n",
              "      <th>3</th>\n",
              "      <td>26</td>\n",
              "      <td>462</td>\n",
              "      <td>6</td>\n",
              "      <td>23679</td>\n",
              "      <td>1082</td>\n",
              "      <td>NaN</td>\n",
              "      <td>7901 BEVERLY BL</td>\n",
              "      <td>{'latitude': '34.076203', 'longitude': '-118.3...</td>\n",
              "      <td>Single-Space</td>\n",
              "      <td>8A-8P Mon-Sat, 11A-8P Sun</td>\n",
              "      <td>$1.00</td>\n",
              "      <td>FLAT</td>\n",
              "      <td>BF66</td>\n",
              "      <td>NaN</td>\n",
              "      <td>2HR</td>\n",
              "    </tr>\n",
              "    <tr>\n",
              "      <th>4</th>\n",
              "      <td>76</td>\n",
              "      <td>693</td>\n",
              "      <td>9</td>\n",
              "      <td>23076</td>\n",
              "      <td>1291</td>\n",
              "      <td>NaN</td>\n",
              "      <td>1301 S HOPE ST</td>\n",
              "      <td>{'latitude': '34.038863', 'longitude': '-118.2...</td>\n",
              "      <td>Single-Space</td>\n",
              "      <td>8A-8P Mon-Sat</td>\n",
              "      <td>$1 - $2</td>\n",
              "      <td>TOD</td>\n",
              "      <td>CB121</td>\n",
              "      <td>NaN</td>\n",
              "      <td>4HR</td>\n",
              "    </tr>\n",
              "  </tbody>\n",
              "</table>\n",
              "</div>"
            ],
            "text/plain": [
              "  :@computed_region_2dna_qi2s :@computed_region_k96s_3jcv  ...        stcl timelimit\n",
              "0                          67                         564  ...  12P-3P Mon       2HR\n",
              "1                          27                         904  ...         NaN       2HR\n",
              "2                          60                         356  ...         NaN       2HR\n",
              "3                          26                         462  ...         NaN       2HR\n",
              "4                          76                         693  ...         NaN       4HR\n",
              "\n",
              "[5 rows x 15 columns]"
            ]
          },
          "metadata": {
            "tags": []
          },
          "execution_count": 33
        }
      ]
    }
  ]
}